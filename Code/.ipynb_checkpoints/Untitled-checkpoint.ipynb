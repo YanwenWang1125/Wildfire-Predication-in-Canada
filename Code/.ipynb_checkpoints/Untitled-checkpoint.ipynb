{
 "cells": [
  {
   "cell_type": "code",
   "execution_count": 1,
   "id": "0d515fa1-8bd0-4bed-b5fd-3a0d73086b97",
   "metadata": {},
   "outputs": [
    {
     "name": "stdout",
     "output_type": "stream",
     "text": [
      "1.4\n"
     ]
    }
   ],
   "source": [
    "import pds4_tools\n",
    "print(pds4_tools.__version__)\n",
    "\n"
   ]
  },
  {
   "cell_type": "code",
   "execution_count": 2,
   "id": "0b33b4f0-6215-48c9-9497-8047f92ff150",
   "metadata": {},
   "outputs": [
    {
     "name": "stdout",
     "output_type": "stream",
     "text": [
      "Processing label: example.pds\n"
     ]
    },
    {
     "ename": "ExpatError",
     "evalue": "The requested PDS4 label file does not appear contain valid XML: example.pds",
     "output_type": "error",
     "traceback": [
      "\u001b[31m---------------------------------------------------------------------------\u001b[39m",
      "\u001b[31mExpatError\u001b[39m                                Traceback (most recent call last)",
      "\u001b[36mCell\u001b[39m\u001b[36m \u001b[39m\u001b[32mIn[2]\u001b[39m\u001b[32m, line 4\u001b[39m\n\u001b[32m      1\u001b[39m \u001b[38;5;28;01mfrom\u001b[39;00m\u001b[38;5;250m \u001b[39m\u001b[34;01mpds4_tools\u001b[39;00m\u001b[38;5;250m \u001b[39m\u001b[38;5;28;01mimport\u001b[39;00m pds4_read\n\u001b[32m      3\u001b[39m \u001b[38;5;66;03m# Load the PDS4 file\u001b[39;00m\n\u001b[32m----> \u001b[39m\u001b[32m4\u001b[39m data = pds4_read(\u001b[33m'\u001b[39m\u001b[33mexample.pds\u001b[39m\u001b[33m'\u001b[39m, lazy_load=\u001b[38;5;28;01mTrue\u001b[39;00m)\n\u001b[32m      5\u001b[39m \u001b[38;5;28mprint\u001b[39m(data)\n",
      "\u001b[36mFile \u001b[39m\u001b[32m~\\anaconda3\\envs\\wildfire\\Lib\\site-packages\\pds4_tools\\reader\\core.py:195\u001b[39m, in \u001b[36mpds4_read\u001b[39m\u001b[34m(filename, quiet, lazy_load, no_scale, decode_strings)\u001b[39m\n\u001b[32m    193\u001b[39m logger.info(\u001b[33m'\u001b[39m\u001b[33mProcessing label: \u001b[39m\u001b[33m'\u001b[39m + filename)\n\u001b[32m    194\u001b[39m reified_filename = download_file(filename) \u001b[38;5;28;01mif\u001b[39;00m is_supported_url(filename) \u001b[38;5;28;01melse\u001b[39;00m filename\n\u001b[32m--> \u001b[39m\u001b[32m195\u001b[39m label = Label.from_file(reified_filename)\n\u001b[32m    197\u001b[39m \u001b[38;5;66;03m# Read and extract all the PDS4 data structures specified in this label\u001b[39;00m\n\u001b[32m    198\u001b[39m structures = read_structures(label, filename, lazy_load=lazy_load, no_scale=no_scale,\n\u001b[32m    199\u001b[39m                              decode_strings=decode_strings)\n",
      "\u001b[36mFile \u001b[39m\u001b[32m~\\anaconda3\\envs\\wildfire\\Lib\\site-packages\\pds4_tools\\reader\\label_objects.py:155\u001b[39m, in \u001b[36mLabel.from_file\u001b[39m\u001b[34m(cls, filename, default_root)\u001b[39m\n\u001b[32m    136\u001b[39m \u001b[38;5;129m@classmethod\u001b[39m\n\u001b[32m    137\u001b[39m \u001b[38;5;28;01mdef\u001b[39;00m\u001b[38;5;250m \u001b[39m\u001b[34mfrom_file\u001b[39m(\u001b[38;5;28mcls\u001b[39m, filename, default_root=\u001b[33m'\u001b[39m\u001b[33mconvenient\u001b[39m\u001b[33m'\u001b[39m):\n\u001b[32m    138\u001b[39m \u001b[38;5;250m    \u001b[39m\u001b[33;03m\"\"\" Create Label from a PDS4 XML label file.\u001b[39;00m\n\u001b[32m    139\u001b[39m \n\u001b[32m    140\u001b[39m \u001b[33;03m    Parameters\u001b[39;00m\n\u001b[32m   (...)\u001b[39m\u001b[32m    152\u001b[39m \u001b[33;03m        Instance, with the contents being taken from *filename*.\u001b[39;00m\n\u001b[32m    153\u001b[39m \u001b[33;03m    \"\"\"\u001b[39;00m\n\u001b[32m--> \u001b[39m\u001b[32m155\u001b[39m     convenient_root, convenient_namespace_map = read_label(filename,\n\u001b[32m    156\u001b[39m                                         strip_extra_whitespace=\u001b[38;5;28;01mTrue\u001b[39;00m, enforce_default_prefixes=\u001b[38;5;28;01mTrue\u001b[39;00m,\n\u001b[32m    157\u001b[39m                                         include_namespace_map=\u001b[38;5;28;01mTrue\u001b[39;00m, decode_py2=\u001b[38;5;28;01mTrue\u001b[39;00m)\n\u001b[32m    159\u001b[39m     unmodified_root, unmodified_namespace_map = read_label(filename,\n\u001b[32m    160\u001b[39m                                         strip_extra_whitespace=\u001b[38;5;28;01mFalse\u001b[39;00m, enforce_default_prefixes=\u001b[38;5;28;01mFalse\u001b[39;00m,\n\u001b[32m    161\u001b[39m                                         include_namespace_map=\u001b[38;5;28;01mTrue\u001b[39;00m, decode_py2=\u001b[38;5;28;01mTrue\u001b[39;00m)\n\u001b[32m    163\u001b[39m     obj = \u001b[38;5;28mcls\u001b[39m(convenient_root=convenient_root,\n\u001b[32m    164\u001b[39m               unmodified_root=unmodified_root,\n\u001b[32m    165\u001b[39m               convenient_namespace_map=convenient_namespace_map,\n\u001b[32m    166\u001b[39m               unmodified_namespace_map=unmodified_namespace_map,\n\u001b[32m    167\u001b[39m               default_root=default_root)\n",
      "\u001b[36mFile \u001b[39m\u001b[32m~\\anaconda3\\envs\\wildfire\\Lib\\site-packages\\pds4_tools\\reader\\read_label.py:129\u001b[39m, in \u001b[36mread_label\u001b[39m\u001b[34m(filename, strip_extra_whitespace, enforce_default_prefixes, include_namespace_map, decode_py2)\u001b[39m\n\u001b[32m    127\u001b[39m \u001b[38;5;66;03m# Raise exception if XML cannot be parsed. In Python 3 we raise from None to avoid confusing re-raise\u001b[39;00m\n\u001b[32m    128\u001b[39m \u001b[38;5;28;01mexcept\u001b[39;00m (ExpatError, compat.ET_ParseError):\n\u001b[32m--> \u001b[39m\u001b[32m129\u001b[39m     six.raise_from(\n\u001b[32m    130\u001b[39m         ExpatError(\u001b[33m'\u001b[39m\u001b[33mThe requested PDS4 label file does not appear contain valid XML: \u001b[39m\u001b[33m'\u001b[39m + filename), \u001b[38;5;28;01mNone\u001b[39;00m)\n\u001b[32m    132\u001b[39m \u001b[38;5;28;01mif\u001b[39;00m include_namespace_map:\n\u001b[32m    133\u001b[39m     \u001b[38;5;28;01mreturn\u001b[39;00m label_xml_root, namespace_map\n",
      "\u001b[36mFile \u001b[39m\u001b[32m<string>:3\u001b[39m, in \u001b[36mraise_from\u001b[39m\u001b[34m(value, from_value)\u001b[39m\n",
      "\u001b[31mExpatError\u001b[39m: The requested PDS4 label file does not appear contain valid XML: example.pds"
     ]
    }
   ],
   "source": [
    "from planetaryimage import PDS3Image\n",
    "\n",
    "img = PDS3Image.open(\"example.pds\")\n",
    "print(img.data.shape)\n",
    "img.show()  # Displays image if it's visual data"
   ]
  },
  {
   "cell_type": "code",
   "execution_count": null,
   "id": "b156e609-9cce-419a-99c2-0e488a772ee7",
   "metadata": {},
   "outputs": [],
   "source": []
  }
 ],
 "metadata": {
  "kernelspec": {
   "display_name": "Python 3 (ipykernel)",
   "language": "python",
   "name": "python3"
  },
  "language_info": {
   "codemirror_mode": {
    "name": "ipython",
    "version": 3
   },
   "file_extension": ".py",
   "mimetype": "text/x-python",
   "name": "python",
   "nbconvert_exporter": "python",
   "pygments_lexer": "ipython3",
   "version": "3.11.11"
  }
 },
 "nbformat": 4,
 "nbformat_minor": 5
}
